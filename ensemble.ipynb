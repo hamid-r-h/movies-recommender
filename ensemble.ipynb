{
  "nbformat": 4,
  "nbformat_minor": 0,
  "metadata": {
    "colab": {
      "provenance": []
    },
    "kernelspec": {
      "name": "python3",
      "display_name": "Python 3"
    },
    "language_info": {
      "name": "python"
    }
  },
  "cells": [
    {
      "cell_type": "code",
      "execution_count": 1,
      "metadata": {
        "colab": {
          "base_uri": "https://localhost:8080/"
        },
        "id": "CqBV0xaRWwWg",
        "outputId": "9539ca0a-5a2d-4129-ce98-76babb8cb13c"
      },
      "outputs": [
        {
          "output_type": "stream",
          "name": "stdout",
          "text": [
            "Mounted at /content/drive\n"
          ]
        }
      ],
      "source": [
        "from google.colab import drive \n",
        "drive.mount('/content/drive')"
      ]
    },
    {
      "cell_type": "code",
      "source": [
        "! pip install fuzzywuzzy"
      ],
      "metadata": {
        "colab": {
          "base_uri": "https://localhost:8080/"
        },
        "id": "kMj-iIg4XKf0",
        "outputId": "72e08bf9-ef80-4635-bff6-ed8f1b49f48a"
      },
      "execution_count": 2,
      "outputs": [
        {
          "output_type": "stream",
          "name": "stdout",
          "text": [
            "Looking in indexes: https://pypi.org/simple, https://us-python.pkg.dev/colab-wheels/public/simple/\n",
            "Collecting fuzzywuzzy\n",
            "  Downloading fuzzywuzzy-0.18.0-py2.py3-none-any.whl (18 kB)\n",
            "Installing collected packages: fuzzywuzzy\n",
            "Successfully installed fuzzywuzzy-0.18.0\n"
          ]
        }
      ]
    },
    {
      "cell_type": "code",
      "source": [
        "import nltk\n",
        "nltk.download('popular')"
      ],
      "metadata": {
        "id": "f_ac6r7VP5RA"
      },
      "execution_count": null,
      "outputs": []
    },
    {
      "cell_type": "code",
      "source": [
        "import numpy as np\n",
        "import pandas as pd\n",
        "from nltk import word_tokenize\n",
        "from nltk.stem import PorterStemmer\n",
        "from sklearn.metrics.pairwise import linear_kernel\n",
        "from sklearn.feature_extraction.text import TfidfVectorizer"
      ],
      "metadata": {
        "id": "8aDVC7KMXfiE"
      },
      "execution_count": 4,
      "outputs": []
    },
    {
      "cell_type": "code",
      "source": [
        "movies_metadata = pd.read_csv('drive/MyDrive/machine learning/finalproject/movies_metadata.csv')\n",
        "keywords = pd.read_csv('drive/MyDrive/machine learning/finalproject/keywords.csv')\n",
        "credits = pd.read_csv('drive/MyDrive/machine learning/finalproject/credits.csv')\n",
        "ratings_small = pd.read_csv('drive/MyDrive/machine learning/finalproject/ratings_small.csv')\n",
        "links_small = pd.read_csv('drive/MyDrive/machine learning/finalproject/links_small.csv')"
      ],
      "metadata": {
        "colab": {
          "base_uri": "https://localhost:8080/"
        },
        "id": "E08SZ_NPXi1D",
        "outputId": "0699c129-ab4b-48c8-ee5c-d6cfaeb0e25b"
      },
      "execution_count": 5,
      "outputs": [
        {
          "output_type": "stream",
          "name": "stderr",
          "text": [
            "/usr/local/lib/python3.8/dist-packages/IPython/core/interactiveshell.py:3326: DtypeWarning: Columns (10) have mixed types.Specify dtype option on import or set low_memory=False.\n",
            "  exec(code_obj, self.user_global_ns, self.user_ns)\n"
          ]
        }
      ]
    },
    {
      "cell_type": "code",
      "source": [
        "movies_df = pd.DataFrame()\n",
        "\n",
        "# delete invalid ids\n",
        "movies = movies_metadata[pd.to_numeric(movies_metadata['id'], errors='coerce').notnull()]\n",
        "movies = movies[movies['title'].notna()]\n",
        "#movies = movies.dropna(axis=0, thresh=20)\n",
        "\n",
        "movies['id'] = movies['id'].astype('int')\n",
        "movies['budget'] = movies['budget'].astype('int')\n",
        "keywords['id'] = keywords['id'].astype('int')\n",
        "credits['id'] = credits['id'].astype('int')\n",
        "\n",
        "movies = movies[movies['budget'] > 0]"
      ],
      "metadata": {
        "id": "9DfKK_llXkWg"
      },
      "execution_count": 49,
      "outputs": []
    },
    {
      "cell_type": "code",
      "source": [
        "def CanUseCF(movie_title):\n",
        "  movieId = getMovieId(movie_title)\n",
        "  if movieId == -1:\n",
        "    return False\n",
        "  ratedMovies = ratings_small[ratings_small['movieId'].isin(movies['id'])]['movieId'].unique()\n",
        "  return (movieId in ratedMovies)\n",
        "\n",
        "def userRatings(userIds):\n",
        "  return ratings_small[ratings_small['userId'].isin(userIds)]\n",
        "def getRatedMovies(movieIds):\n",
        "  return ratings_small[ratings_small['movieId'].isin(movieIds)]\n",
        "def getMovieTitle(id):\n",
        "  return movies[movies['id'] == id][['title']]\n",
        "def getMovieId(title):\n",
        "  ids = movies[movies['title'] == title][['id']].values\n",
        "  if len(ids) > 0:\n",
        "    return ids[0][0]\n",
        "  else:\n",
        "    return -1"
      ],
      "metadata": {
        "id": "khBekG8BXxtu"
      },
      "execution_count": 7,
      "outputs": []
    },
    {
      "cell_type": "code",
      "source": [
        "getMovieId(\"The Dark Knight\")\n",
        "movies[movies['id'].isin([155, 72003])]\n",
        "getMovieTitle(231293)\n",
        "getMovieId(\"Planet Earth\")"
      ],
      "metadata": {
        "colab": {
          "base_uri": "https://localhost:8080/"
        },
        "id": "LDxaS5WCpDtu",
        "outputId": "287d8c4e-dd65-43e5-91c3-05ac45a3d783"
      },
      "execution_count": 16,
      "outputs": [
        {
          "output_type": "execute_result",
          "data": {
            "text/plain": [
              "-1"
            ]
          },
          "metadata": {},
          "execution_count": 16
        }
      ]
    },
    {
      "cell_type": "code",
      "source": [
        "from fuzzywuzzy import fuzz\n",
        "\n",
        "def fuzzy_matching(mapper, fav_book, verbose=True):\n",
        "    matched_items = []\n",
        "    # get match\n",
        "    for title, idx in mapper.items():\n",
        "        ratio = fuzz.ratio(title.lower(), fav_book.lower())\n",
        "        if ratio >= 60:\n",
        "            matched_items.append((title, idx, ratio))\n",
        "    # sort\n",
        "    matched_items = sorted(matched_items, key=lambda x: x[2])[::-1]\n",
        "    if not matched_items:\n",
        "        print('Oops! No match is found')\n",
        "        return\n",
        "    if verbose:\n",
        "        print('Found possible matches in our database: {0}\\n'.format([x[0] for x in matched_items]))\n",
        "    return matched_items[0][1]"
      ],
      "metadata": {
        "colab": {
          "base_uri": "https://localhost:8080/"
        },
        "id": "74DHmYMMY48d",
        "outputId": "ac81edb1-d192-4ee9-f65d-c8269a47aa5c"
      },
      "execution_count": 9,
      "outputs": [
        {
          "output_type": "stream",
          "name": "stderr",
          "text": [
            "/usr/local/lib/python3.8/dist-packages/fuzzywuzzy/fuzz.py:11: UserWarning: Using slow pure-python SequenceMatcher. Install python-Levenshtein to remove this warning\n",
            "  warnings.warn('Using slow pure-python SequenceMatcher. Install python-Levenshtein to remove this warning')\n"
          ]
        }
      ]
    },
    {
      "cell_type": "code",
      "source": [
        "from sklearn.neighbors import NearestNeighbors\n",
        "from scipy.sparse import csr_matrix\n",
        "\n",
        "class CFRecommender:\n",
        "  def __init__(self, ratings, movies):\n",
        "    ratings_pivot = ratings.pivot(index='movieId', columns='userId', values='rating').fillna(0)\n",
        "    self.ratings_mx = csr_matrix(ratings_pivot.values)\n",
        "    self.movies_idx = pd.Series(movies['id'].values, index=movies['title']).astype('int64')\n",
        "    self.knn = NearestNeighbors(metric='cosine', algorithm='brute', n_neighbors=20, n_jobs=-1)\n",
        "    self.knn.fit(self.ratings_mx)\n",
        "\n",
        "  def findSimiliarMovies(self, target_movie, rec_cnt):\n",
        "    \n",
        "    idx = fuzzy_matching(self.movies_idx, target_movie, verbose=True)\n",
        "    distances, indices = self.knn.kneighbors(self.ratings_mx[idx], n_neighbors=rec_cnt+1)\n",
        "\n",
        "    raw_recommends = sorted(list(zip(indices.squeeze().tolist(), distances.squeeze().tolist())), key=lambda x: x[1])[1:]\n",
        "    #print(\"raw recomms : \", raw_recommends)\n",
        "\n",
        "    movie_titles = {v:k for k,v in self.movies_idx.items()}\n",
        "    results = []\n",
        "    result_idx = []\n",
        "    result_tuple = []\n",
        "    for i, (idx, dist) in enumerate(raw_recommends):\n",
        "      if not idx in movie_titles.keys():\n",
        "        #print(\"movie with id {0} is not available: \".format(idx))\n",
        "        continue\n",
        "      #print('{0}: {1}, with distance of {2}'.format(i+1, movie_titles[idx], dist))\n",
        "      #results.append(movie_titles[idx])\n",
        "      #result_idx.append(idx)\n",
        "      result_tuple.append((idx, movie_titles[idx], dist))\n",
        "    return result_tuple\n",
        "\n",
        "\n",
        "  def recommendMovie(self, movie_title, count):\n",
        "    result = pd.DataFrame(columns=['title', 'dist'])\n",
        "    if CanUseCF(movie_title):\n",
        "      recomms = self.findSimiliarMovies(movie_title, count)\n",
        "      result['title'] = [title for id, title, dist in recomms]\n",
        "      result['dist'] = [dist for id, title, dist in recomms]\n",
        "      #movie_titles = {v:k for k,v in self.movies_idx.items()}\n",
        "    return result\n"
      ],
      "metadata": {
        "id": "RmEcitwkY5h9"
      },
      "execution_count": 38,
      "outputs": []
    },
    {
      "cell_type": "code",
      "source": [
        "def getInfo(movies):\n",
        "  return movies.drop(columns=['budget', 'homepage',\n",
        "       'imdb_id', 'original_language',\n",
        "       'popularity', 'poster_path', 'production_companies',\n",
        "       'production_countries', 'release_date', 'revenue', 'runtime',\n",
        "       'spoken_languages', 'status', 'video'], inplace=False)\n"
      ],
      "metadata": {
        "id": "Tc1YDTiSY9Zr"
      },
      "execution_count": 11,
      "outputs": []
    },
    {
      "cell_type": "code",
      "source": [
        "recommender = CFRecommender(ratings_small, movies)\n",
        "#title = \"The Dark Knight\"\n",
        "title = \"Four Rooms\"\n",
        "recomms = recommender.recommendMovie(title, 10)\n",
        "print(\"recoms : \\n\")\n",
        "recomms"
      ],
      "metadata": {
        "colab": {
          "base_uri": "https://localhost:8080/",
          "height": 390
        },
        "id": "943sJ1VP6qqd",
        "outputId": "108d48a1-74a0-4bb4-ff30-ef7d1b0d8720"
      },
      "execution_count": 48,
      "outputs": [
        {
          "output_type": "stream",
          "name": "stdout",
          "text": [
            "Found possible matches in our database: ['Four Rooms', 'Four Lions', 'Four Brothers', 'War Room', 'Boiler Room', 'Four Minutes', 'Our Relations', 'Our Lovers', 'Green Room', 'Mr. Brooks']\n",
            "\n",
            "recoms : \n",
            "\n"
          ]
        },
        {
          "output_type": "execute_result",
          "data": {
            "text/plain": [
              "                                  title      dist\n",
              "0             The Passion of the Christ  0.474242\n",
              "1                     Kill Bill: Vol. 1  0.495131\n",
              "2                       Boyz n the Hood  0.532554\n",
              "3          A.I. Artificial Intelligence  0.534825\n",
              "4  Indiana Jones and the Temple of Doom  0.538353\n",
              "5                            Flashdance  0.539475\n",
              "6                           Wild Things  0.542851\n",
              "7                           Constantine  0.547751"
            ],
            "text/html": [
              "\n",
              "  <div id=\"df-51106365-a127-40fa-b7e0-41c575d61858\">\n",
              "    <div class=\"colab-df-container\">\n",
              "      <div>\n",
              "<style scoped>\n",
              "    .dataframe tbody tr th:only-of-type {\n",
              "        vertical-align: middle;\n",
              "    }\n",
              "\n",
              "    .dataframe tbody tr th {\n",
              "        vertical-align: top;\n",
              "    }\n",
              "\n",
              "    .dataframe thead th {\n",
              "        text-align: right;\n",
              "    }\n",
              "</style>\n",
              "<table border=\"1\" class=\"dataframe\">\n",
              "  <thead>\n",
              "    <tr style=\"text-align: right;\">\n",
              "      <th></th>\n",
              "      <th>title</th>\n",
              "      <th>dist</th>\n",
              "    </tr>\n",
              "  </thead>\n",
              "  <tbody>\n",
              "    <tr>\n",
              "      <th>0</th>\n",
              "      <td>The Passion of the Christ</td>\n",
              "      <td>0.474242</td>\n",
              "    </tr>\n",
              "    <tr>\n",
              "      <th>1</th>\n",
              "      <td>Kill Bill: Vol. 1</td>\n",
              "      <td>0.495131</td>\n",
              "    </tr>\n",
              "    <tr>\n",
              "      <th>2</th>\n",
              "      <td>Boyz n the Hood</td>\n",
              "      <td>0.532554</td>\n",
              "    </tr>\n",
              "    <tr>\n",
              "      <th>3</th>\n",
              "      <td>A.I. Artificial Intelligence</td>\n",
              "      <td>0.534825</td>\n",
              "    </tr>\n",
              "    <tr>\n",
              "      <th>4</th>\n",
              "      <td>Indiana Jones and the Temple of Doom</td>\n",
              "      <td>0.538353</td>\n",
              "    </tr>\n",
              "    <tr>\n",
              "      <th>5</th>\n",
              "      <td>Flashdance</td>\n",
              "      <td>0.539475</td>\n",
              "    </tr>\n",
              "    <tr>\n",
              "      <th>6</th>\n",
              "      <td>Wild Things</td>\n",
              "      <td>0.542851</td>\n",
              "    </tr>\n",
              "    <tr>\n",
              "      <th>7</th>\n",
              "      <td>Constantine</td>\n",
              "      <td>0.547751</td>\n",
              "    </tr>\n",
              "  </tbody>\n",
              "</table>\n",
              "</div>\n",
              "      <button class=\"colab-df-convert\" onclick=\"convertToInteractive('df-51106365-a127-40fa-b7e0-41c575d61858')\"\n",
              "              title=\"Convert this dataframe to an interactive table.\"\n",
              "              style=\"display:none;\">\n",
              "        \n",
              "  <svg xmlns=\"http://www.w3.org/2000/svg\" height=\"24px\"viewBox=\"0 0 24 24\"\n",
              "       width=\"24px\">\n",
              "    <path d=\"M0 0h24v24H0V0z\" fill=\"none\"/>\n",
              "    <path d=\"M18.56 5.44l.94 2.06.94-2.06 2.06-.94-2.06-.94-.94-2.06-.94 2.06-2.06.94zm-11 1L8.5 8.5l.94-2.06 2.06-.94-2.06-.94L8.5 2.5l-.94 2.06-2.06.94zm10 10l.94 2.06.94-2.06 2.06-.94-2.06-.94-.94-2.06-.94 2.06-2.06.94z\"/><path d=\"M17.41 7.96l-1.37-1.37c-.4-.4-.92-.59-1.43-.59-.52 0-1.04.2-1.43.59L10.3 9.45l-7.72 7.72c-.78.78-.78 2.05 0 2.83L4 21.41c.39.39.9.59 1.41.59.51 0 1.02-.2 1.41-.59l7.78-7.78 2.81-2.81c.8-.78.8-2.07 0-2.86zM5.41 20L4 18.59l7.72-7.72 1.47 1.35L5.41 20z\"/>\n",
              "  </svg>\n",
              "      </button>\n",
              "      \n",
              "  <style>\n",
              "    .colab-df-container {\n",
              "      display:flex;\n",
              "      flex-wrap:wrap;\n",
              "      gap: 12px;\n",
              "    }\n",
              "\n",
              "    .colab-df-convert {\n",
              "      background-color: #E8F0FE;\n",
              "      border: none;\n",
              "      border-radius: 50%;\n",
              "      cursor: pointer;\n",
              "      display: none;\n",
              "      fill: #1967D2;\n",
              "      height: 32px;\n",
              "      padding: 0 0 0 0;\n",
              "      width: 32px;\n",
              "    }\n",
              "\n",
              "    .colab-df-convert:hover {\n",
              "      background-color: #E2EBFA;\n",
              "      box-shadow: 0px 1px 2px rgba(60, 64, 67, 0.3), 0px 1px 3px 1px rgba(60, 64, 67, 0.15);\n",
              "      fill: #174EA6;\n",
              "    }\n",
              "\n",
              "    [theme=dark] .colab-df-convert {\n",
              "      background-color: #3B4455;\n",
              "      fill: #D2E3FC;\n",
              "    }\n",
              "\n",
              "    [theme=dark] .colab-df-convert:hover {\n",
              "      background-color: #434B5C;\n",
              "      box-shadow: 0px 1px 3px 1px rgba(0, 0, 0, 0.15);\n",
              "      filter: drop-shadow(0px 1px 2px rgba(0, 0, 0, 0.3));\n",
              "      fill: #FFFFFF;\n",
              "    }\n",
              "  </style>\n",
              "\n",
              "      <script>\n",
              "        const buttonEl =\n",
              "          document.querySelector('#df-51106365-a127-40fa-b7e0-41c575d61858 button.colab-df-convert');\n",
              "        buttonEl.style.display =\n",
              "          google.colab.kernel.accessAllowed ? 'block' : 'none';\n",
              "\n",
              "        async function convertToInteractive(key) {\n",
              "          const element = document.querySelector('#df-51106365-a127-40fa-b7e0-41c575d61858');\n",
              "          const dataTable =\n",
              "            await google.colab.kernel.invokeFunction('convertToInteractive',\n",
              "                                                     [key], {});\n",
              "          if (!dataTable) return;\n",
              "\n",
              "          const docLinkHtml = 'Like what you see? Visit the ' +\n",
              "            '<a target=\"_blank\" href=https://colab.research.google.com/notebooks/data_table.ipynb>data table notebook</a>'\n",
              "            + ' to learn more about interactive tables.';\n",
              "          element.innerHTML = '';\n",
              "          dataTable['output_type'] = 'display_data';\n",
              "          await google.colab.output.renderOutput(dataTable, element);\n",
              "          const docLink = document.createElement('div');\n",
              "          docLink.innerHTML = docLinkHtml;\n",
              "          element.appendChild(docLink);\n",
              "        }\n",
              "      </script>\n",
              "    </div>\n",
              "  </div>\n",
              "  "
            ]
          },
          "metadata": {},
          "execution_count": 48
        }
      ]
    },
    {
      "cell_type": "code",
      "source": [
        "def cb_preprocess(movies, keywords, credits):\n",
        "  # movie_meta_data = movie_meta_data.drop([19730, 29503, 35587])\n",
        "\n",
        "  movies_data = movies.drop(['adult','homepage','video','runtime','revenue','release_date','imdb_id','budget','poster_path','original_title',\n",
        "                              'original_language','belongs_to_collection','production_countries'],axis=1)\n",
        "\n",
        "  df_k_c = keywords.merge(credits,on=\"id\",how=\"left\")\n",
        "  movies_data = df_k_c.merge(movies_data,on=\"id\",how=\"left\")\n",
        "\n",
        "  movies_data['genres'] = movies_data['genres'].fillna('[]').apply(lambda x: [i['name'] for i in eval(x)])\n",
        "  movies_data['genres'] = movies_data['genres'].apply(lambda x: ' '.join([i.replace(\",\", \"\") for i in x]))\n",
        "  movies_data['production_companies'] = movies_data['production_companies'].fillna('[]').apply(lambda x: [i['name'] for i in eval(x)] if isinstance(eval(x), list) else [])\n",
        "  movies_data['production_companies'] = movies_data['production_companies'].apply(lambda x: ' '.join([i.replace(\",\", \"\") for i in x]))\n",
        "  movies_data['keywords'] = movies_data['keywords'].fillna('[]').apply(lambda x: [i['name'] for i in eval(x)] if isinstance(eval(x), list) else [])\n",
        "  movies_data['keywords'] = movies_data['keywords'].apply(lambda x: ' '.join([i.replace(\",\", \"\") for i in x]))\n",
        "  movies_data['cast'] = movies_data['cast'].fillna('[]').apply(lambda x: [i['name'] for i in eval(x)] if isinstance(eval(x), list) else [])\n",
        "  movies_data['cast'] = movies_data['cast'].apply(lambda x: ' '.join([i.replace(\",\", \"\") for i in x]))\n",
        "  movies_data['crew'] = movies_data['crew'].fillna('[]').apply(lambda x: [i['name'] for i in eval(x) if i['job'] == 'Director'] if isinstance(eval(x), list) else [])\n",
        "  movies_data['crew'] = movies_data['crew'].apply(lambda x: ' '.join([i.replace(\",\", \"\") for i in x]))\n",
        "  movies_data['spoken_languages'] = movies_data['spoken_languages'].fillna('[]').apply(lambda x: [i['name'] for i in eval(x)] if isinstance(eval(x), list) else [])\n",
        "  movies_data['spoken_languages'] = movies_data['spoken_languages'].apply(lambda x: ' '.join([i.replace(\",\", \"\") for i in x]))\n",
        "  movies_data['overview'] = movies_data['overview'].fillna('')\n",
        "  movies_data['tagline'] = movies_data['tagline'].fillna('')\n",
        "\n",
        "  movies_des=pd.DataFrame()\n",
        "  movies_des['title']=movies_data['title']\n",
        "  movies_des['vote_average']=movies_data['vote_average']\n",
        "  movies_des['vote_count']=movies_data['vote_count']\n",
        "  movies_des['data']=movies_data['genres'] +' '+movies_data['overview']+' '+movies_data['production_companies'] + ' ' +movies_data['title'] +' '+ movies_data['tagline']+' '+movies_data['crew'] +' '+ movies_data['keywords']\n",
        "  movies_des['data']=movies_des['data'].str.lower()\n",
        "  movies_des.drop_duplicates(inplace=True)\n",
        "  movies_des=movies_des.dropna()\n",
        "  pst = PorterStemmer()\n",
        "  movies_des['data'] = movies_des['data'].apply(word_tokenize)\n",
        "  movies_des['data'] = movies_des['data'].apply(lambda x: ' '.join([pst.stem(y) for y in x]))\n",
        "  movies_des=movies_des.reset_index()\n",
        "  movies_des=movies_des.drop(\"index\" , axis=1)\n",
        "  \n",
        "  return movies_des"
      ],
      "metadata": {
        "id": "PKpmJBYlJZZi"
      },
      "execution_count": 12,
      "outputs": []
    },
    {
      "cell_type": "code",
      "source": [
        "class CBRecommender :\n",
        "    def __init__(self, movies, keywords, credits):\n",
        "        self.movies = cb_preprocess(movies, keywords, credits)\n",
        "        self.tfid_vector = self.vectorize()\n",
        "    \n",
        "    \n",
        "    def vectorize(self):\n",
        "        tfid = TfidfVectorizer(analyzer='word',stop_words='english')\n",
        "        tfid_vector = tfid.fit_transform(self.movies['data'])\n",
        "        return tfid_vector\n",
        "    \n",
        "    \n",
        "    def recommendMovie(self, movie_title, count) :\n",
        "        indx = self.movies[self.movies[\"title\"] == movie_title].index\n",
        "        sim_vector = linear_kernel(self.tfid_vector, self.tfid_vector[indx[0]])\n",
        "        same_rate = sorted(list(enumerate(sim_vector)), key=lambda x: x[1], reverse=True)\n",
        "        same_rate = same_rate[1:30]\n",
        "        movie_indices = [i[0] for i in same_rate]\n",
        "        similarities = [i[1] for i in same_rate]\n",
        "        result = self.movies.iloc[movie_indices]\n",
        "        result.loc[:, 'dist'] = 1 - np.array(similarities)\n",
        "        # result['score'] = result['vote_average'] + (result['vote_count']//1000)/10\n",
        "        # result.sort_values(by=['score'], ascending=False, inplace=True)\n",
        "        #result.sort_values(by=[\"vote_average\",\"vote_count\"], ascending=[False,False], inplace=True)  \n",
        "        result = result.drop(['data', 'vote_average', 'vote_count'],axis=1).reset_index(drop=True)\n",
        "        return result[:count]\n",
        "\n",
        "cb_recommender = CBRecommender(movies, keywords, credits)\n",
        "result = cb_recommender.recommendMovie(\"Four Rooms\", 10)\n",
        "result"
      ],
      "metadata": {
        "id": "VXwwJYC-JP5Y",
        "colab": {
          "base_uri": "https://localhost:8080/",
          "height": 467
        },
        "outputId": "f1e1fa23-2d33-459c-afe8-ec54e6d3cc5b"
      },
      "execution_count": 17,
      "outputs": [
        {
          "output_type": "stream",
          "name": "stderr",
          "text": [
            "/usr/local/lib/python3.8/dist-packages/pandas/core/indexing.py:1667: SettingWithCopyWarning: \n",
            "A value is trying to be set on a copy of a slice from a DataFrame.\n",
            "Try using .loc[row_indexer,col_indexer] = value instead\n",
            "\n",
            "See the caveats in the documentation: https://pandas.pydata.org/pandas-docs/stable/user_guide/indexing.html#returning-a-view-versus-a-copy\n",
            "  self.obj[key] = value\n"
          ]
        },
        {
          "output_type": "execute_result",
          "data": {
            "text/plain": [
              "                                   title      dist\n",
              "0                                 Insane  0.811546\n",
              "1                                   1408  0.813021\n",
              "2               The Million Dollar Hotel  0.816458\n",
              "3                           Out Of Order  0.817269\n",
              "4  The Second Best Exotic Marigold Hotel  0.819849\n",
              "5                         New Year's Eve  0.827699\n",
              "6                                   Ploy  0.838345\n",
              "7                            Grand Hotel  0.847683\n",
              "8                   Hotel Transylvania 2  0.849190\n",
              "9                          Mystery Train  0.852349"
            ],
            "text/html": [
              "\n",
              "  <div id=\"df-78d702f6-7621-4332-82ec-cb0a84984420\">\n",
              "    <div class=\"colab-df-container\">\n",
              "      <div>\n",
              "<style scoped>\n",
              "    .dataframe tbody tr th:only-of-type {\n",
              "        vertical-align: middle;\n",
              "    }\n",
              "\n",
              "    .dataframe tbody tr th {\n",
              "        vertical-align: top;\n",
              "    }\n",
              "\n",
              "    .dataframe thead th {\n",
              "        text-align: right;\n",
              "    }\n",
              "</style>\n",
              "<table border=\"1\" class=\"dataframe\">\n",
              "  <thead>\n",
              "    <tr style=\"text-align: right;\">\n",
              "      <th></th>\n",
              "      <th>title</th>\n",
              "      <th>dist</th>\n",
              "    </tr>\n",
              "  </thead>\n",
              "  <tbody>\n",
              "    <tr>\n",
              "      <th>0</th>\n",
              "      <td>Insane</td>\n",
              "      <td>0.811546</td>\n",
              "    </tr>\n",
              "    <tr>\n",
              "      <th>1</th>\n",
              "      <td>1408</td>\n",
              "      <td>0.813021</td>\n",
              "    </tr>\n",
              "    <tr>\n",
              "      <th>2</th>\n",
              "      <td>The Million Dollar Hotel</td>\n",
              "      <td>0.816458</td>\n",
              "    </tr>\n",
              "    <tr>\n",
              "      <th>3</th>\n",
              "      <td>Out Of Order</td>\n",
              "      <td>0.817269</td>\n",
              "    </tr>\n",
              "    <tr>\n",
              "      <th>4</th>\n",
              "      <td>The Second Best Exotic Marigold Hotel</td>\n",
              "      <td>0.819849</td>\n",
              "    </tr>\n",
              "    <tr>\n",
              "      <th>5</th>\n",
              "      <td>New Year's Eve</td>\n",
              "      <td>0.827699</td>\n",
              "    </tr>\n",
              "    <tr>\n",
              "      <th>6</th>\n",
              "      <td>Ploy</td>\n",
              "      <td>0.838345</td>\n",
              "    </tr>\n",
              "    <tr>\n",
              "      <th>7</th>\n",
              "      <td>Grand Hotel</td>\n",
              "      <td>0.847683</td>\n",
              "    </tr>\n",
              "    <tr>\n",
              "      <th>8</th>\n",
              "      <td>Hotel Transylvania 2</td>\n",
              "      <td>0.849190</td>\n",
              "    </tr>\n",
              "    <tr>\n",
              "      <th>9</th>\n",
              "      <td>Mystery Train</td>\n",
              "      <td>0.852349</td>\n",
              "    </tr>\n",
              "  </tbody>\n",
              "</table>\n",
              "</div>\n",
              "      <button class=\"colab-df-convert\" onclick=\"convertToInteractive('df-78d702f6-7621-4332-82ec-cb0a84984420')\"\n",
              "              title=\"Convert this dataframe to an interactive table.\"\n",
              "              style=\"display:none;\">\n",
              "        \n",
              "  <svg xmlns=\"http://www.w3.org/2000/svg\" height=\"24px\"viewBox=\"0 0 24 24\"\n",
              "       width=\"24px\">\n",
              "    <path d=\"M0 0h24v24H0V0z\" fill=\"none\"/>\n",
              "    <path d=\"M18.56 5.44l.94 2.06.94-2.06 2.06-.94-2.06-.94-.94-2.06-.94 2.06-2.06.94zm-11 1L8.5 8.5l.94-2.06 2.06-.94-2.06-.94L8.5 2.5l-.94 2.06-2.06.94zm10 10l.94 2.06.94-2.06 2.06-.94-2.06-.94-.94-2.06-.94 2.06-2.06.94z\"/><path d=\"M17.41 7.96l-1.37-1.37c-.4-.4-.92-.59-1.43-.59-.52 0-1.04.2-1.43.59L10.3 9.45l-7.72 7.72c-.78.78-.78 2.05 0 2.83L4 21.41c.39.39.9.59 1.41.59.51 0 1.02-.2 1.41-.59l7.78-7.78 2.81-2.81c.8-.78.8-2.07 0-2.86zM5.41 20L4 18.59l7.72-7.72 1.47 1.35L5.41 20z\"/>\n",
              "  </svg>\n",
              "      </button>\n",
              "      \n",
              "  <style>\n",
              "    .colab-df-container {\n",
              "      display:flex;\n",
              "      flex-wrap:wrap;\n",
              "      gap: 12px;\n",
              "    }\n",
              "\n",
              "    .colab-df-convert {\n",
              "      background-color: #E8F0FE;\n",
              "      border: none;\n",
              "      border-radius: 50%;\n",
              "      cursor: pointer;\n",
              "      display: none;\n",
              "      fill: #1967D2;\n",
              "      height: 32px;\n",
              "      padding: 0 0 0 0;\n",
              "      width: 32px;\n",
              "    }\n",
              "\n",
              "    .colab-df-convert:hover {\n",
              "      background-color: #E2EBFA;\n",
              "      box-shadow: 0px 1px 2px rgba(60, 64, 67, 0.3), 0px 1px 3px 1px rgba(60, 64, 67, 0.15);\n",
              "      fill: #174EA6;\n",
              "    }\n",
              "\n",
              "    [theme=dark] .colab-df-convert {\n",
              "      background-color: #3B4455;\n",
              "      fill: #D2E3FC;\n",
              "    }\n",
              "\n",
              "    [theme=dark] .colab-df-convert:hover {\n",
              "      background-color: #434B5C;\n",
              "      box-shadow: 0px 1px 3px 1px rgba(0, 0, 0, 0.15);\n",
              "      filter: drop-shadow(0px 1px 2px rgba(0, 0, 0, 0.3));\n",
              "      fill: #FFFFFF;\n",
              "    }\n",
              "  </style>\n",
              "\n",
              "      <script>\n",
              "        const buttonEl =\n",
              "          document.querySelector('#df-78d702f6-7621-4332-82ec-cb0a84984420 button.colab-df-convert');\n",
              "        buttonEl.style.display =\n",
              "          google.colab.kernel.accessAllowed ? 'block' : 'none';\n",
              "\n",
              "        async function convertToInteractive(key) {\n",
              "          const element = document.querySelector('#df-78d702f6-7621-4332-82ec-cb0a84984420');\n",
              "          const dataTable =\n",
              "            await google.colab.kernel.invokeFunction('convertToInteractive',\n",
              "                                                     [key], {});\n",
              "          if (!dataTable) return;\n",
              "\n",
              "          const docLinkHtml = 'Like what you see? Visit the ' +\n",
              "            '<a target=\"_blank\" href=https://colab.research.google.com/notebooks/data_table.ipynb>data table notebook</a>'\n",
              "            + ' to learn more about interactive tables.';\n",
              "          element.innerHTML = '';\n",
              "          dataTable['output_type'] = 'display_data';\n",
              "          await google.colab.output.renderOutput(dataTable, element);\n",
              "          const docLink = document.createElement('div');\n",
              "          docLink.innerHTML = docLinkHtml;\n",
              "          element.appendChild(docLink);\n",
              "        }\n",
              "      </script>\n",
              "    </div>\n",
              "  </div>\n",
              "  "
            ]
          },
          "metadata": {},
          "execution_count": 17
        }
      ]
    },
    {
      "cell_type": "code",
      "source": [
        "class EnsembleRecommender:\n",
        "  def __init__(self, ratings, movies, keywords, credits):\n",
        "    self.cfr = CFRecommender(ratings, movies)\n",
        "    self.cbr = CBRecommender(movies, keywords, credits)\n",
        "\n",
        "  \n",
        "  def recommendMovie(self, movie_title, count):\n",
        "    cf_results = self.cfr.recommendMovie(movie_title, count)\n",
        "    print(\"cf results : \", cf_results)\n",
        "    cb_results = cb_recommender.recommendMovie(movie_title, count)\n",
        "    print(\"cb results : \", cb_results)\n",
        "    results = pd.concat([cf_results, cb_results]).sort_values(by=['dist'])[:count].reset_index(drop=True)\n",
        "    print(\"results: \", results)\n",
        "    \n",
        "    return results"
      ],
      "metadata": {
        "id": "R18Fy3H6aI6O"
      },
      "execution_count": 28,
      "outputs": []
    },
    {
      "cell_type": "code",
      "source": [
        "ensembleRec = EnsembleRecommender(ratings_small, movies, keywords, credits)"
      ],
      "metadata": {
        "id": "Hdk9vj1CgDfK"
      },
      "execution_count": 29,
      "outputs": []
    },
    {
      "cell_type": "code",
      "source": [
        "rec_movies = ensembleRec.recommendMovie(\"The Dark Knight\", 10)\n",
        "rec_movies"
      ],
      "metadata": {
        "colab": {
          "base_uri": "https://localhost:8080/",
          "height": 1000
        },
        "id": "qpxQxFHR3ppc",
        "outputId": "f4ef5372-ddc2-4bd2-9cea-f7e445479ef9"
      },
      "execution_count": 30,
      "outputs": [
        {
          "output_type": "stream",
          "name": "stdout",
          "text": [
            "Found possible matches in our database: ['The Dark Knight', 'One Dark Night', 'The Dark Knight Rises', 'Shark Night', 'The Dark Lurking', 'The Good Night', 'The Dark Half', 'The Dark Tower', 'The Dark Tapes', 'The Kids Are Alright', 'The Last Light', 'The Dark House', 'The Dark Hours', 'The Darkness', 'The Last Flight', 'The Master Gunfighter', 'The Dead Pit', 'The Hollywood Knights', 'In the Dark Half', 'The Kids Are All Right', 'The Dark Crystal', 'The Last King', 'The Nightmare', 'The Rig', 'The Awakening', 'Date Night', 'Harlem Nights', 'Hard Eight', 'The Hateful Eight', 'The Fighter', 'The Karate Kid', 'The Damned United', 'Into the Night', 'The Pianist', 'The Burning', 'The Karate Kid', 'The Big Hit', 'The Odd Angry Shot', 'The Rite', 'The Heartbreak Kid', 'Chimes at Midnight', 'The Ring', \"A Hard Day's Night\", 'The Danish Girl', 'The Dark Valley', 'The Monkey King', 'The Fisher King', 'The Night Flier', 'The Deer Hunter', 'The Right Stuff', 'The Frighteners']\n",
            "\n",
            "cf results :               title      dist\n",
            "0             Heat  0.387918\n",
            "1   Pink Flamingos  0.446438\n",
            "2     Donnie Darko  0.498209\n",
            "3  The Good German  0.510471\n",
            "4            Shaft  0.516186\n",
            "5            Scoop  0.529562\n",
            "cb results :                                       title      dist\n",
            "0                    The Dark Knight Rises  0.459963\n",
            "1                            Batman Begins  0.514070\n",
            "2  Batman: The Dark Knight Returns, Part 2  0.559047\n",
            "3  Batman: The Dark Knight Returns, Part 1  0.600064\n",
            "4                                   Batman  0.606018\n",
            "5                 Batman: The Killing Joke  0.611813\n",
            "6             Batman: Mask of the Phantasm  0.611903\n",
            "7                           Batman Returns  0.621678\n",
            "8       Batman v Superman: Dawn of Justice  0.632531\n",
            "9                           Batman Forever  0.650044\n",
            "results:                                       title      dist\n",
            "0                                     Heat  0.387918\n",
            "1                           Pink Flamingos  0.446438\n",
            "2                    The Dark Knight Rises  0.459963\n",
            "3                             Donnie Darko  0.498209\n",
            "4                          The Good German  0.510471\n",
            "5                            Batman Begins  0.514070\n",
            "6                                    Shaft  0.516186\n",
            "7                                    Scoop  0.529562\n",
            "8  Batman: The Dark Knight Returns, Part 2  0.559047\n",
            "9  Batman: The Dark Knight Returns, Part 1  0.600064\n"
          ]
        },
        {
          "output_type": "stream",
          "name": "stderr",
          "text": [
            "/usr/local/lib/python3.8/dist-packages/pandas/core/indexing.py:1667: SettingWithCopyWarning: \n",
            "A value is trying to be set on a copy of a slice from a DataFrame.\n",
            "Try using .loc[row_indexer,col_indexer] = value instead\n",
            "\n",
            "See the caveats in the documentation: https://pandas.pydata.org/pandas-docs/stable/user_guide/indexing.html#returning-a-view-versus-a-copy\n",
            "  self.obj[key] = value\n"
          ]
        },
        {
          "output_type": "execute_result",
          "data": {
            "text/plain": [
              "                                     title      dist\n",
              "0                                     Heat  0.387918\n",
              "1                           Pink Flamingos  0.446438\n",
              "2                    The Dark Knight Rises  0.459963\n",
              "3                             Donnie Darko  0.498209\n",
              "4                          The Good German  0.510471\n",
              "5                            Batman Begins  0.514070\n",
              "6                                    Shaft  0.516186\n",
              "7                                    Scoop  0.529562\n",
              "8  Batman: The Dark Knight Returns, Part 2  0.559047\n",
              "9  Batman: The Dark Knight Returns, Part 1  0.600064"
            ],
            "text/html": [
              "\n",
              "  <div id=\"df-f4061ab1-feb4-4670-a730-0c1e4ec9e50a\">\n",
              "    <div class=\"colab-df-container\">\n",
              "      <div>\n",
              "<style scoped>\n",
              "    .dataframe tbody tr th:only-of-type {\n",
              "        vertical-align: middle;\n",
              "    }\n",
              "\n",
              "    .dataframe tbody tr th {\n",
              "        vertical-align: top;\n",
              "    }\n",
              "\n",
              "    .dataframe thead th {\n",
              "        text-align: right;\n",
              "    }\n",
              "</style>\n",
              "<table border=\"1\" class=\"dataframe\">\n",
              "  <thead>\n",
              "    <tr style=\"text-align: right;\">\n",
              "      <th></th>\n",
              "      <th>title</th>\n",
              "      <th>dist</th>\n",
              "    </tr>\n",
              "  </thead>\n",
              "  <tbody>\n",
              "    <tr>\n",
              "      <th>0</th>\n",
              "      <td>Heat</td>\n",
              "      <td>0.387918</td>\n",
              "    </tr>\n",
              "    <tr>\n",
              "      <th>1</th>\n",
              "      <td>Pink Flamingos</td>\n",
              "      <td>0.446438</td>\n",
              "    </tr>\n",
              "    <tr>\n",
              "      <th>2</th>\n",
              "      <td>The Dark Knight Rises</td>\n",
              "      <td>0.459963</td>\n",
              "    </tr>\n",
              "    <tr>\n",
              "      <th>3</th>\n",
              "      <td>Donnie Darko</td>\n",
              "      <td>0.498209</td>\n",
              "    </tr>\n",
              "    <tr>\n",
              "      <th>4</th>\n",
              "      <td>The Good German</td>\n",
              "      <td>0.510471</td>\n",
              "    </tr>\n",
              "    <tr>\n",
              "      <th>5</th>\n",
              "      <td>Batman Begins</td>\n",
              "      <td>0.514070</td>\n",
              "    </tr>\n",
              "    <tr>\n",
              "      <th>6</th>\n",
              "      <td>Shaft</td>\n",
              "      <td>0.516186</td>\n",
              "    </tr>\n",
              "    <tr>\n",
              "      <th>7</th>\n",
              "      <td>Scoop</td>\n",
              "      <td>0.529562</td>\n",
              "    </tr>\n",
              "    <tr>\n",
              "      <th>8</th>\n",
              "      <td>Batman: The Dark Knight Returns, Part 2</td>\n",
              "      <td>0.559047</td>\n",
              "    </tr>\n",
              "    <tr>\n",
              "      <th>9</th>\n",
              "      <td>Batman: The Dark Knight Returns, Part 1</td>\n",
              "      <td>0.600064</td>\n",
              "    </tr>\n",
              "  </tbody>\n",
              "</table>\n",
              "</div>\n",
              "      <button class=\"colab-df-convert\" onclick=\"convertToInteractive('df-f4061ab1-feb4-4670-a730-0c1e4ec9e50a')\"\n",
              "              title=\"Convert this dataframe to an interactive table.\"\n",
              "              style=\"display:none;\">\n",
              "        \n",
              "  <svg xmlns=\"http://www.w3.org/2000/svg\" height=\"24px\"viewBox=\"0 0 24 24\"\n",
              "       width=\"24px\">\n",
              "    <path d=\"M0 0h24v24H0V0z\" fill=\"none\"/>\n",
              "    <path d=\"M18.56 5.44l.94 2.06.94-2.06 2.06-.94-2.06-.94-.94-2.06-.94 2.06-2.06.94zm-11 1L8.5 8.5l.94-2.06 2.06-.94-2.06-.94L8.5 2.5l-.94 2.06-2.06.94zm10 10l.94 2.06.94-2.06 2.06-.94-2.06-.94-.94-2.06-.94 2.06-2.06.94z\"/><path d=\"M17.41 7.96l-1.37-1.37c-.4-.4-.92-.59-1.43-.59-.52 0-1.04.2-1.43.59L10.3 9.45l-7.72 7.72c-.78.78-.78 2.05 0 2.83L4 21.41c.39.39.9.59 1.41.59.51 0 1.02-.2 1.41-.59l7.78-7.78 2.81-2.81c.8-.78.8-2.07 0-2.86zM5.41 20L4 18.59l7.72-7.72 1.47 1.35L5.41 20z\"/>\n",
              "  </svg>\n",
              "      </button>\n",
              "      \n",
              "  <style>\n",
              "    .colab-df-container {\n",
              "      display:flex;\n",
              "      flex-wrap:wrap;\n",
              "      gap: 12px;\n",
              "    }\n",
              "\n",
              "    .colab-df-convert {\n",
              "      background-color: #E8F0FE;\n",
              "      border: none;\n",
              "      border-radius: 50%;\n",
              "      cursor: pointer;\n",
              "      display: none;\n",
              "      fill: #1967D2;\n",
              "      height: 32px;\n",
              "      padding: 0 0 0 0;\n",
              "      width: 32px;\n",
              "    }\n",
              "\n",
              "    .colab-df-convert:hover {\n",
              "      background-color: #E2EBFA;\n",
              "      box-shadow: 0px 1px 2px rgba(60, 64, 67, 0.3), 0px 1px 3px 1px rgba(60, 64, 67, 0.15);\n",
              "      fill: #174EA6;\n",
              "    }\n",
              "\n",
              "    [theme=dark] .colab-df-convert {\n",
              "      background-color: #3B4455;\n",
              "      fill: #D2E3FC;\n",
              "    }\n",
              "\n",
              "    [theme=dark] .colab-df-convert:hover {\n",
              "      background-color: #434B5C;\n",
              "      box-shadow: 0px 1px 3px 1px rgba(0, 0, 0, 0.15);\n",
              "      filter: drop-shadow(0px 1px 2px rgba(0, 0, 0, 0.3));\n",
              "      fill: #FFFFFF;\n",
              "    }\n",
              "  </style>\n",
              "\n",
              "      <script>\n",
              "        const buttonEl =\n",
              "          document.querySelector('#df-f4061ab1-feb4-4670-a730-0c1e4ec9e50a button.colab-df-convert');\n",
              "        buttonEl.style.display =\n",
              "          google.colab.kernel.accessAllowed ? 'block' : 'none';\n",
              "\n",
              "        async function convertToInteractive(key) {\n",
              "          const element = document.querySelector('#df-f4061ab1-feb4-4670-a730-0c1e4ec9e50a');\n",
              "          const dataTable =\n",
              "            await google.colab.kernel.invokeFunction('convertToInteractive',\n",
              "                                                     [key], {});\n",
              "          if (!dataTable) return;\n",
              "\n",
              "          const docLinkHtml = 'Like what you see? Visit the ' +\n",
              "            '<a target=\"_blank\" href=https://colab.research.google.com/notebooks/data_table.ipynb>data table notebook</a>'\n",
              "            + ' to learn more about interactive tables.';\n",
              "          element.innerHTML = '';\n",
              "          dataTable['output_type'] = 'display_data';\n",
              "          await google.colab.output.renderOutput(dataTable, element);\n",
              "          const docLink = document.createElement('div');\n",
              "          docLink.innerHTML = docLinkHtml;\n",
              "          element.appendChild(docLink);\n",
              "        }\n",
              "      </script>\n",
              "    </div>\n",
              "  </div>\n",
              "  "
            ]
          },
          "metadata": {},
          "execution_count": 30
        }
      ]
    },
    {
      "cell_type": "code",
      "source": [
        "ratedMovies = ratings_small[ratings_small['movieId'].isin(movies['id'])]['movieId'].unique()\n",
        "print(ratedMovies)\n",
        "print(len(ratedMovies))"
      ],
      "metadata": {
        "colab": {
          "base_uri": "https://localhost:8080/"
        },
        "id": "ncyIN_F_ICy1",
        "outputId": "1350f94b-f1f8-4836-cc0f-8899b607c795"
      },
      "execution_count": 46,
      "outputs": [
        {
          "output_type": "stream",
          "name": "stdout",
          "text": [
            "[1371 1405 2105 ...  167  563  129]\n",
            "1262\n"
          ]
        }
      ]
    }
  ]
}